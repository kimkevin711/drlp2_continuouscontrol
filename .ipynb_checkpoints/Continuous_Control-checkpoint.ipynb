{
 "cells": [
  {
   "cell_type": "markdown",
   "metadata": {},
   "source": [
    "# Continuous Control\n",
    "\n",
    "---\n",
    "\n",
    "In this notebook, you will learn how to use the Unity ML-Agents environment for the second project of the [Deep Reinforcement Learning Nanodegree](https://www.udacity.com/course/deep-reinforcement-learning-nanodegree--nd893) program.\n",
    "\n",
    "### 1. Start the Environment\n",
    "\n",
    "We begin by importing the necessary packages.  If the code cell below returns an error, please revisit the project instructions to double-check that you have installed [Unity ML-Agents](https://github.com/Unity-Technologies/ml-agents/blob/master/docs/Installation.md) and [NumPy](http://www.numpy.org/)."
   ]
  },
  {
   "cell_type": "code",
   "execution_count": 1,
   "metadata": {},
   "outputs": [],
   "source": [
    "from unityagents import UnityEnvironment\n",
    "import numpy as np\n",
    "import torch\n",
    "import random\n",
    "from collections import deque\n",
    "from ddpg_agent import Agent, ReplayBuffer\n",
    "import matplotlib.pyplot as plt\n",
    "from pprint import pprint\n",
    "%matplotlib inline"
   ]
  },
  {
   "cell_type": "markdown",
   "metadata": {},
   "source": [
    "Next, we will start the environment!  **_Before running the code cell below_**, change the `file_name` parameter to match the location of the Unity environment that you downloaded.\n",
    "\n",
    "- **Mac**: `\"path/to/Reacher.app\"`\n",
    "- **Windows** (x86): `\"path/to/Reacher_Windows_x86/Reacher.exe\"`\n",
    "- **Windows** (x86_64): `\"path/to/Reacher_Windows_x86_64/Reacher.exe\"`\n",
    "- **Linux** (x86): `\"path/to/Reacher_Linux/Reacher.x86\"`\n",
    "- **Linux** (x86_64): `\"path/to/Reacher_Linux/Reacher.x86_64\"`\n",
    "- **Linux** (x86, headless): `\"path/to/Reacher_Linux_NoVis/Reacher.x86\"`\n",
    "- **Linux** (x86_64, headless): `\"path/to/Reacher_Linux_NoVis/Reacher.x86_64\"`\n",
    "\n",
    "For instance, if you are using a Mac, then you downloaded `Reacher.app`.  If this file is in the same folder as the notebook, then the line below should appear as follows:\n",
    "```\n",
    "env = UnityEnvironment(file_name=\"Reacher.app\")\n",
    "```"
   ]
  },
  {
   "cell_type": "code",
   "execution_count": 2,
   "metadata": {},
   "outputs": [
    {
     "name": "stderr",
     "output_type": "stream",
     "text": [
      "INFO:unityagents:\n",
      "'Academy' started successfully!\n",
      "Unity Academy name: Academy\n",
      "        Number of Brains: 1\n",
      "        Number of External Brains : 1\n",
      "        Lesson number : 0\n",
      "        Reset Parameters :\n",
      "\t\tgoal_speed -> 1.0\n",
      "\t\tgoal_size -> 5.0\n",
      "Unity brain name: ReacherBrain\n",
      "        Number of Visual Observations (per agent): 0\n",
      "        Vector Observation space type: continuous\n",
      "        Vector Observation space size (per agent): 33\n",
      "        Number of stacked Vector Observation: 1\n",
      "        Vector Action space type: continuous\n",
      "        Vector Action space size (per agent): 4\n",
      "        Vector Action descriptions: , , , \n"
     ]
    }
   ],
   "source": [
    "# # on Mac (CPU only)\n",
    "# env = UnityEnvironment(file_name='Reacher2.app')\n",
    "\n",
    "# on Windows (GPU enabled)\n",
    "env = UnityEnvironment(file_name='Reacher_Windows_x86_64/Reacher.exe')\n"
   ]
  },
  {
   "cell_type": "markdown",
   "metadata": {},
   "source": [
    "Environments contain **_brains_** which are responsible for deciding the actions of their associated agents. Here we check for the first brain available, and set it as the default brain we will be controlling from Python."
   ]
  },
  {
   "cell_type": "code",
   "execution_count": 3,
   "metadata": {},
   "outputs": [
    {
     "name": "stdout",
     "output_type": "stream",
     "text": [
      "Using Brain: ReacherBrain\n"
     ]
    }
   ],
   "source": [
    "# get the default brain\n",
    "brain_name = env.brain_names[0]\n",
    "brain = env.brains[brain_name]\n",
    "\n",
    "print('Using Brain:', brain_name)"
   ]
  },
  {
   "cell_type": "markdown",
   "metadata": {},
   "source": [
    "### 2. Examine the State and Action Spaces\n",
    "\n",
    "In this environment, a double-jointed arm can move to target locations. A reward of `+0.1` is provided for each step that the agent's hand is in the goal location. Thus, the goal of your agent is to maintain its position at the target location for as many time steps as possible.\n",
    "\n",
    "The observation space consists of `33` variables corresponding to position, rotation, velocity, and angular velocities of the arm.  Each action is a vector with four numbers, corresponding to torque applicable to two joints.  Every entry in the action vector must be a number between `-1` and `1`.\n",
    "\n",
    "Run the code cell below to print some information about the environment."
   ]
  },
  {
   "cell_type": "code",
   "execution_count": 4,
   "metadata": {},
   "outputs": [
    {
     "name": "stdout",
     "output_type": "stream",
     "text": [
      "Number of agents: 20\n",
      "Size of each action: 4\n",
      "There are 20 agents. Each observes a state with length: 33\n"
     ]
    }
   ],
   "source": [
    "# reset the environment\n",
    "env_info = env.reset(train_mode=True)[brain_name]\n",
    "\n",
    "# number of agents\n",
    "num_agents = len(env_info.agents)\n",
    "print('Number of agents:', num_agents)\n",
    "\n",
    "# size of each action\n",
    "action_size = brain.vector_action_space_size\n",
    "print('Size of each action:', action_size)\n",
    "\n",
    "# examine the state space \n",
    "states = env_info.vector_observations\n",
    "state_size = states.shape[1]\n",
    "print('There are {} agents. Each observes a state with length: {}'.format(states.shape[0], state_size))\n",
    "# print('The state for the first agent looks like:', states[0])"
   ]
  },
  {
   "cell_type": "code",
   "execution_count": 5,
   "metadata": {},
   "outputs": [],
   "source": [
    "# print(dir(env_info))\n",
    "# print(env_info.previous_vector_actions)"
   ]
  },
  {
   "cell_type": "markdown",
   "metadata": {},
   "source": [
    "### 3. Train DDPG Agent\n",
    "\n",
    "Now it's your turn to train your own agent to solve the environment!  When training the environment, set `train_mode=True`, so that the line for resetting the environment looks like the following:\n",
    "```python\n",
    "env_info = env.reset(train_mode=True)[brain_name]\n",
    "```"
   ]
  },
  {
   "cell_type": "code",
   "execution_count": 6,
   "metadata": {},
   "outputs": [
    {
     "name": "stdout",
     "output_type": "stream",
     "text": [
<<<<<<< HEAD
      "Using  cpu\n"
     ]
    }
   ],
   "source": [
    "actor_local_state = torch.load('agent_checkpoints/checkpoint_actor.pth')\n",
    "critic_local_state = torch.load('agent_checkpoints/checkpoint_critic.pth')\n",
    "\n",
    "BATCH_SIZE = 128\n",
    "agent = Agent(state_size, action_size, BATCH_SIZE, 0, actor_local_dict=actor_local_state, critic_local_dict=critic_local_state)"
   ]
  },
  {
   "cell_type": "code",
   "execution_count": 7,
   "metadata": {},
   "outputs": [
    {
     "name": "stdout",
     "output_type": "stream",
     "text": [
      "DONE [True, True, True, True, True, True, True, True, True, True, True, True, True, True, True, True, True, True, True, True]\n",
      "Total score (averaged over agents) this episode: 11.230999748967587\n",
      "1001 STEPS\n"
=======
      "Agent Using Device: cuda:0\n"
>>>>>>> c71fb3f454a3aeb11f28cdee74fd37429c31839a
     ]
    }
   ],
   "source": [
    "# create agent\n",
    "agent = Agent(state_size, action_size, 4)\n",
    "\n",
    "scores_deque = deque(maxlen=100)\n",
    "score_hist = []\n"
   ]
  },
  {
   "cell_type": "code",
   "execution_count": null,
   "metadata": {
    "scrolled": false
   },
   "outputs": [],
   "source": [
    "# train agent\n",
    "N_EPS = 300\n",
    "T_MAX = 1000 # default time limit in env is 1001\n",
    "\n",
    "\n",
    "\n",
    "for i_episode in range(1, N_EPS+1):\n",
    "    env_info = env.reset(train_mode=True)[brain_name]     # turn train mode on for env\n",
    "    states = env_info.vector_observations                 # get initial states\n",
    "\n",
    "    agent.reset()\n",
    "\n",
    "    scores = np.zeros(num_agents)                         # initialize the score (for each agent)\n",
    "\n",
    "    for t in range(T_MAX):\n",
    "        actions = [agent.act(states[0])]                # get first agents actions\n",
    "        for i in range(1,num_agents):\n",
    "            actions.append(agent.act(states[i]))        # get all other agents actions\n",
    "\n",
    "        env_info = env.step(actions)[brain_name]        # send the actions to the environment\n",
    "        next_states = env_info.vector_observations      # get the next state\n",
    "        dones = env_info.local_done                     # see if episode has finished\n",
    "        rewards = env_info.rewards                      # get reward (for each agent)\n",
    "        scores += env_info.rewards                      # get total score for this episode\n",
    "\n",
    "        # update using all agents\n",
    "        for state, action, reward, next_state, done in zip(states, actions, rewards, next_states, dones):\n",
    "            agent.step(state, action, reward, next_state, done)\n",
    "\n",
    "        states = next_states\n",
    "\n",
    "        if np.any(dones):\n",
    "            print('DONE', t)\n",
    "            break\n",
    "    \n",
    "    scores_deque.append(np.mean(scores))\n",
    "    score_hist.append(np.mean(scores))\n",
    "    print('\\rEpisode {}\\tAverage Score of Episode: {:.2f}\\tAverage Score Last {}: {:.2f}'.format(i_episode, np.mean(scores), 100, np.mean(scores_deque)), end=\"\")\n",
    "    torch.save(agent.actor_local.state_dict(), 'agent_checkpoints/checkpoint_actor.pth')\n",
    "    torch.save(agent.critic_local.state_dict(), 'agent_checkpoints/checkpoint_critic.pth')\n",
    "    if i_episode % 100 == 0:\n",
    "        print('\\rEpisode {}\\tAverage Score Last {}: {:.2f}'.format(i_episode, 100, np.mean(scores_deque)))\n"
   ]
  },
  {
   "cell_type": "code",
   "execution_count": 8,
   "metadata": {},
   "outputs": [
    {
     "data": {
      "image/png": "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\n",
      "text/plain": [
       "<Figure size 432x288 with 1 Axes>"
      ]
     },
     "metadata": {
      "needs_background": "light"
     },
     "output_type": "display_data"
    }
   ],
   "source": [
    "plt.rcParams['font.size'] = '16'\n",
    "fig = plt.figure()\n",
    "ax = fig.add_subplot(111)\n",
    "plt.plot(np.arange(1, len(score_hist)+1), score_hist)\n",
    "plt.ylabel('Score')\n",
    "plt.xlabel('Episode #')\n",
    "plt.show()"
   ]
  },
  {
   "cell_type": "markdown",
   "metadata": {},
   "source": [
    "### 4. Test the Agent\n",
    "\n",
    "Test the agent using test code from source Udacity DDPG notebook."
   ]
  },
  {
   "cell_type": "code",
   "execution_count": null,
   "metadata": {},
<<<<<<< HEAD
   "outputs": [],
=======
   "outputs": [
    {
     "name": "stdout",
     "output_type": "stream",
     "text": [
      "Agent Using Device: cuda:0\n"
     ]
    }
   ],
>>>>>>> c71fb3f454a3aeb11f28cdee74fd37429c31839a
   "source": [
    "# load the saved states if testing agent\n",
    "\n",
    "actor_state = torch.load('agent_checkpoints/checkpoint_actor_pass.pth')\n",
    "critic_state = torch.load('agent_checkpoints/checkpoint_critic_pass.pth')\n",
    "\n",
    "agent_to_test = Agent(state_size, action_size, 4, actor_state=actor_state, critic_state=critic_state)\n"
   ]
  },
  {
   "cell_type": "code",
   "execution_count": 6,
   "metadata": {},
<<<<<<< HEAD
   "outputs": [],
=======
   "outputs": [
    {
     "name": "stdout",
     "output_type": "stream",
     "text": [
      "DONE Episode:  0 Reward Avg: 34.413999230787155\n",
      "DONE Episode:  1 Reward Avg: 34.582999227009715\n",
      "DONE Episode:  2 Reward Avg: 34.598499226663264\n",
      "DONE Episode:  3 Reward Avg: 34.01249923976138\n",
      "DONE Episode:  4 Reward Avg: 33.541999250277875\n",
      "DONE Episode:  5 Reward Avg: 34.36699923183769\n",
      "DONE Episode:  6 Reward Avg: 35.38899920899421\n",
      "DONE Episode:  7 Reward Avg: 33.62249924847856\n",
      "DONE Episode:  8 Reward Avg: 33.82149924403056\n",
      "DONE Episode:  9 Reward Avg: 35.00299921762198\n",
      "Total score over num episodes 10: 35.00299921762198\n"
     ]
    }
   ],
>>>>>>> c71fb3f454a3aeb11f28cdee74fd37429c31839a
   "source": [
    "\n",
    "i_eps = 10\n",
    "\n",
    "scores_test = []\n",
    "for ie in range(i_eps):\n",
    "    env_info = env.reset(train_mode=False)[brain_name]     # reset the environment    \n",
    "    states = env_info.vector_observations                  # get the current state (for each agent)\n",
    "    scores = np.zeros(num_agents)                          # initialize the score (for each agent)\n",
    "    while True:\n",
    "    #     # if testing random \n",
    "    #     actions = np.random.randn(num_agents, action_size) # select an action (for each agent)\n",
    "    #     actions = np.clip(actions, -1, 1)                  # all actions between -1 and 1\n",
    "\n",
    "        # test agent\n",
    "        actions = [agent_to_test.act(states[0])]                # get first agents actions\n",
    "        for i in range(1,num_agents):\n",
    "            actions.append(agent_to_test.act(states[i]))        # get all other agents actions\n",
    "\n",
    "        # run through actions\n",
    "        env_info = env.step(actions)[brain_name]           # send all actions to tne environment\n",
    "        next_states = env_info.vector_observations         # get next state (for each agent)\n",
    "        rewards = env_info.rewards                         # get reward (for each agent)\n",
    "        dones = env_info.local_done                        # see if episode finished\n",
    "        scores += env_info.rewards                         # update the score (for each agent)\n",
    "        states = next_states                               # roll over states to next time step\n",
    "\n",
    "        if np.any(dones):                                  # exit loop if episode finished\n",
    "            print('DONE Episode: ', ie, 'Reward Avg:', np.mean(scores))\n",
    "            scores_test.append(np.mean(scores))\n",
    "            break\n",
    "\n",
    "print('Total score over num episodes {}: {}'.format(ie+1, np.mean(scores)))\n",
    " "
   ]
  },
  {
   "cell_type": "code",
   "execution_count": 7,
   "metadata": {
    "scrolled": true
   },
   "outputs": [
    {
     "data": {
      "image/png": "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\n",
      "text/plain": [
       "<Figure size 432x288 with 1 Axes>"
      ]
     },
     "metadata": {
      "needs_background": "light"
     },
     "output_type": "display_data"
    }
   ],
   "source": [
    "env.close()\n",
    "plt.rcParams['font.size'] = '16'\n",
    "fig = plt.figure()\n",
    "ax = fig.add_subplot(111)\n",
    "plt.plot(np.arange(1, len(scores_test)+1), scores_test)\n",
    "plt.ylabel('Score')\n",
    "plt.xlabel('Episode #')\n",
    "plt.show()"
   ]
  },
  {
   "cell_type": "markdown",
   "metadata": {},
   "source": [
    "When finished, you can close the environment."
   ]
  }
 ],
 "metadata": {
  "kernelspec": {
   "display_name": "drlnd",
   "language": "python",
   "name": "drlnd"
  },
  "language_info": {
   "codemirror_mode": {
    "name": "ipython",
    "version": 3
   },
   "file_extension": ".py",
   "mimetype": "text/x-python",
   "name": "python",
   "nbconvert_exporter": "python",
   "pygments_lexer": "ipython3",
   "version": "3.6.13"
  }
 },
 "nbformat": 4,
 "nbformat_minor": 2
}
